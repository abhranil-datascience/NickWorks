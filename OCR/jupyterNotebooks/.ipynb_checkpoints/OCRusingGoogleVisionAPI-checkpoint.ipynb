{
 "cells": [
  {
   "cell_type": "code",
   "execution_count": 1,
   "metadata": {},
   "outputs": [
    {
     "name": "stdout",
     "output_type": "stream",
     "text": [
      "/mnt/d/NickWorks/OCR/jupyterNotebooks\r\n"
     ]
    }
   ],
   "source": [
    "!pwd"
   ]
  },
  {
   "cell_type": "code",
   "execution_count": 2,
   "metadata": {},
   "outputs": [],
   "source": [
    "from google.cloud import vision\n",
    "from google.cloud.vision import types\n",
    "import io\n",
    "from google.protobuf.json_format import MessageToDict"
   ]
  },
  {
   "cell_type": "code",
   "execution_count": 3,
   "metadata": {},
   "outputs": [],
   "source": [
    "file_loc = '../Dataset/DeathCertificate1.png'\n",
    "with io.open(file_loc, 'rb') as image_file:\n",
    "    content = image_file.read()"
   ]
  },
  {
   "cell_type": "code",
   "execution_count": 4,
   "metadata": {},
   "outputs": [],
   "source": [
    "client = vision.ImageAnnotatorClient()\n",
    "image = vision.types.Image(content=content)\n",
    "response = client.text_detection(image=image)"
   ]
  },
  {
   "cell_type": "code",
   "execution_count": 5,
   "metadata": {},
   "outputs": [],
   "source": [
    "DictResponse=MessageToDict(response)\n",
    "WordsAndCoordinates=DictResponse['textAnnotations'][1:]"
   ]
  },
  {
   "cell_type": "code",
   "execution_count": 6,
   "metadata": {},
   "outputs": [],
   "source": [
    "word_list=[]\n",
    "llx_list=[]\n",
    "lly_list=[]\n",
    "lrx_list=[]\n",
    "lry_list=[]\n",
    "urx_list=[]\n",
    "ury_list=[]\n",
    "ulx_list=[]\n",
    "uly_list=[]\n",
    "for i in range(0,len(WordsAndCoordinates)):\n",
    "    word_list.append(WordsAndCoordinates[i]['description'])\n",
    "    llx_list.append(WordsAndCoordinates[i]['boundingPoly']['vertices'][0]['x'])\n",
    "    lly_list.append(WordsAndCoordinates[i]['boundingPoly']['vertices'][0]['y'])\n",
    "    lrx_list.append(WordsAndCoordinates[i]['boundingPoly']['vertices'][1]['x'])\n",
    "    lry_list.append(WordsAndCoordinates[i]['boundingPoly']['vertices'][1]['y'])\n",
    "    urx_list.append(WordsAndCoordinates[i]['boundingPoly']['vertices'][2]['x'])\n",
    "    ury_list.append(WordsAndCoordinates[i]['boundingPoly']['vertices'][2]['y'])\n",
    "    ulx_list.append(WordsAndCoordinates[i]['boundingPoly']['vertices'][3]['x'])\n",
    "    uly_list.append(WordsAndCoordinates[i]['boundingPoly']['vertices'][3]['y'])"
   ]
  },
  {
   "cell_type": "code",
   "execution_count": 7,
   "metadata": {},
   "outputs": [],
   "source": [
    "WordsAndCoordinatesDict={\"Word\":word_list,'llx':llx_list,'lly':lly_list,\n",
    "                         'lrx':lrx_list,'lry':lry_list,'urx':urx_list,\n",
    "                         'ury':ury_list,'ulx':ulx_list,'uly':uly_list}"
   ]
  },
  {
   "cell_type": "code",
   "execution_count": 22,
   "metadata": {},
   "outputs": [],
   "source": [
    "import pandas as pd\n",
    "WordsAndCoordinatesDF = pd.DataFrame.from_dict(WordsAndCoordinatesDict)"
   ]
  },
  {
   "cell_type": "code",
   "execution_count": 23,
   "metadata": {},
   "outputs": [],
   "source": [
    "lly_ll=WordsAndCoordinatesDF[WordsAndCoordinatesDF['Word'].isin([\"Surname\"])].head(1)['lly'].values[0]-40"
   ]
  },
  {
   "cell_type": "code",
   "execution_count": 24,
   "metadata": {},
   "outputs": [],
   "source": [
    "lly_ul=WordsAndCoordinatesDF[WordsAndCoordinatesDF['Word'].isin([\"birth\"])]['lly'].values[0]+40"
   ]
  },
  {
   "cell_type": "code",
   "execution_count": 25,
   "metadata": {},
   "outputs": [],
   "source": [
    "WordsAndCoordinatesDFCopy=WordsAndCoordinatesDF[WordsAndCoordinatesDF['lly'].between(lly_ll,lly_ul)]\n",
    "WordsAndCoordinatesDFCopy=WordsAndCoordinatesDFCopy.sort_values(by=['lly'])"
   ]
  },
  {
   "cell_type": "code",
   "execution_count": 28,
   "metadata": {},
   "outputs": [
    {
     "data": {
      "text/plain": [
       "'Beard'"
      ]
     },
     "execution_count": 28,
     "metadata": {},
     "output_type": "execute_result"
    }
   ],
   "source": [
    "lly_surname=WordsAndCoordinatesDFCopy[WordsAndCoordinatesDFCopy['Word'].isin(['Surname'])]['lly'].values[0]\n",
    "lly_ll=lly_surname-20\n",
    "lly_ul=lly_surname+20\n",
    "SurnameList=list(WordsAndCoordinatesDFCopy[(WordsAndCoordinatesDFCopy['Word']!='Surname') & (WordsAndCoordinatesDFCopy['lly'].between(lly_ll,lly_ul))][['Word']].sort_index()['Word'])\n",
    "SurnameList\n",
    "Surname=\" \"\n",
    "Surname=Surname.join(SurnameList)\n",
    "Surname"
   ]
  },
  {
   "cell_type": "code",
   "execution_count": 13,
   "metadata": {},
   "outputs": [
    {
     "data": {
      "text/plain": [
       "'Pippa Jane'"
      ]
     },
     "execution_count": 13,
     "metadata": {},
     "output_type": "execute_result"
    }
   ],
   "source": [
    "lly_Given=WordsAndCoordinatesDFCopy[WordsAndCoordinatesDFCopy['Word'].isin(['Given'])]['lly'].values[0]\n",
    "lly_ll=lly_Given-20\n",
    "lly_ul=lly_Given+20\n",
    "GivenNameList=list(WordsAndCoordinatesDFCopy[(~WordsAndCoordinatesDFCopy['Word'].isin(['Given','Names'])) & (WordsAndCoordinatesDFCopy['lly'].between(lly_ll,lly_ul))][['Word']].sort_index()['Word'])\n",
    "GivenName=\" \"\n",
    "GivenName=GivenName.join(GivenNameList)\n",
    "GivenName"
   ]
  },
  {
   "cell_type": "code",
   "execution_count": 16,
   "metadata": {},
   "outputs": [
    {
     "data": {
      "text/plain": [
       "'14 Ashover Grove, Carine, Western Australia'"
      ]
     },
     "execution_count": 16,
     "metadata": {},
     "output_type": "execute_result"
    }
   ],
   "source": [
    "lly_place_of_death=WordsAndCoordinatesDFCopy[WordsAndCoordinatesDFCopy['Word'].isin(['Place'])].head(1)['lly'].values[0]\n",
    "lly_ll=lly_place_of_death-20\n",
    "lly_ul=lly_place_of_death+20\n",
    "PlaceOfDeathList=list(WordsAndCoordinatesDFCopy[(~WordsAndCoordinatesDFCopy['Word'].isin(['Place','of','death'])) & (WordsAndCoordinatesDFCopy['lly'].between(lly_ll,lly_ul))][['Word']].sort_index()['Word'])\n",
    "PlaceOfDeath=\" \"\n",
    "PlaceOfDeath=PlaceOfDeath.join(PlaceOfDeathList)\n",
    "PlaceOfDeath"
   ]
  },
  {
   "cell_type": "code",
   "execution_count": 17,
   "metadata": {},
   "outputs": [
    {
     "data": {
      "text/plain": [
       "'4 February 2020'"
      ]
     },
     "execution_count": 17,
     "metadata": {},
     "output_type": "execute_result"
    }
   ],
   "source": [
    "lly_date_of_death=WordsAndCoordinatesDFCopy[WordsAndCoordinatesDFCopy['Word'].isin(['Date'])].head(1)['lly'].values[0]\n",
    "lly_ll=lly_date_of_death-20\n",
    "lly_ul=lly_date_of_death+20\n",
    "DateOfDeathList=list(WordsAndCoordinatesDFCopy[(~WordsAndCoordinatesDFCopy['Word'].isin(['Date','of','death'])) & (WordsAndCoordinatesDFCopy['lly'].between(lly_ll,lly_ul))][['Word']].sort_index()['Word'])\n",
    "DateOfDeath=\" \"\n",
    "DateOfDeath=DateOfDeath.join(DateOfDeathList)\n",
    "DateOfDeath"
   ]
  },
  {
   "cell_type": "code",
   "execution_count": 18,
   "metadata": {},
   "outputs": [
    {
     "data": {
      "text/plain": [
       "'Student Female'"
      ]
     },
     "execution_count": 18,
     "metadata": {},
     "output_type": "execute_result"
    }
   ],
   "source": [
    "lly_occupation_and_sex=WordsAndCoordinatesDFCopy[WordsAndCoordinatesDFCopy['Word'].isin(['Occupation'])].head(1)['lly'].values[0]\n",
    "lly_ll=lly_occupation_and_sex-20\n",
    "lly_ul=lly_occupation_and_sex+20\n",
    "OccupationAndSexList=list(WordsAndCoordinatesDFCopy[(~WordsAndCoordinatesDFCopy['Word'].isin(['Occupation','&','Sex'])) & (WordsAndCoordinatesDFCopy['lly'].between(lly_ll,lly_ul))][['Word']].sort_index()['Word'])\n",
    "OccupationAndSex=\" \"\n",
    "OccupationAndSex=OccupationAndSex.join(OccupationAndSexList)\n",
    "OccupationAndSex"
   ]
  },
  {
   "cell_type": "code",
   "execution_count": 19,
   "metadata": {},
   "outputs": [
    {
     "data": {
      "text/plain": [
       "'41 years 16 June 1978'"
      ]
     },
     "execution_count": 19,
     "metadata": {},
     "output_type": "execute_result"
    }
   ],
   "source": [
    "lly_age_and_dob=WordsAndCoordinatesDFCopy[WordsAndCoordinatesDFCopy['Word'].isin(['Age'])].head(1)['lly'].values[0]\n",
    "lly_ll=lly_age_and_dob-20\n",
    "lly_ul=lly_age_and_dob+20\n",
    "AgeAndDOBList=list(WordsAndCoordinatesDFCopy[(~WordsAndCoordinatesDFCopy['Word'].isin(['Age','&','Date','of','Birth'])) & (WordsAndCoordinatesDFCopy['lly'].between(lly_ll,lly_ul))][['Word']].sort_index()['Word'])\n",
    "AgeAndDOB=\" \"\n",
    "AgeAndDOB=AgeAndDOB.join(AgeAndDOBList)\n",
    "AgeAndDOB"
   ]
  },
  {
   "cell_type": "code",
   "execution_count": 20,
   "metadata": {},
   "outputs": [
    {
     "data": {
      "text/plain": [
       "'14 Ashover Grove, Carine, Western Australia, Australia'"
      ]
     },
     "execution_count": 20,
     "metadata": {},
     "output_type": "execute_result"
    }
   ],
   "source": [
    "lly_usual_address=WordsAndCoordinatesDFCopy[WordsAndCoordinatesDFCopy['Word'].isin(['address'])].head(1)['lly'].values[0]\n",
    "lly_ll=lly_usual_address-20\n",
    "lly_ul=lly_usual_address+20\n",
    "UsualAddressList=list(WordsAndCoordinatesDFCopy[(~WordsAndCoordinatesDFCopy['Word'].isin(['Usual','address'])) & (WordsAndCoordinatesDFCopy['lly'].between(lly_ll,lly_ul))][['Word']].sort_index()['Word'])\n",
    "UsualAddress=\" \"\n",
    "UsualAddress=UsualAddress.join(UsualAddressList)\n",
    "UsualAddress"
   ]
  },
  {
   "cell_type": "code",
   "execution_count": 21,
   "metadata": {},
   "outputs": [
    {
     "data": {
      "text/plain": [
       "'Subiaco, Western Australia, Australia'"
      ]
     },
     "execution_count": 21,
     "metadata": {},
     "output_type": "execute_result"
    }
   ],
   "source": [
    "lly_place_of_birth=WordsAndCoordinatesDFCopy[WordsAndCoordinatesDFCopy['Word'].isin(['birth'])].head(1)['lly'].values[0]\n",
    "lly_ll=lly_place_of_birth-20\n",
    "lly_ul=lly_place_of_birth+20\n",
    "PlaceOfBirthList=list(WordsAndCoordinatesDFCopy[(~WordsAndCoordinatesDFCopy['Word'].isin(['Place','of','birth'])) & (WordsAndCoordinatesDFCopy['lly'].between(lly_ll,lly_ul))][['Word']].sort_index()['Word'])\n",
    "PlaceOfBirth=\" \"\n",
    "PlaceOfBirth=PlaceOfBirth.join(PlaceOfBirthList)\n",
    "PlaceOfBirth"
   ]
  },
  {
   "cell_type": "code",
   "execution_count": null,
   "metadata": {},
   "outputs": [],
   "source": []
  }
 ],
 "metadata": {
  "kernelspec": {
   "display_name": "Python 3",
   "language": "python",
   "name": "python3"
  },
  "language_info": {
   "codemirror_mode": {
    "name": "ipython",
    "version": 3
   },
   "file_extension": ".py",
   "mimetype": "text/x-python",
   "name": "python",
   "nbconvert_exporter": "python",
   "pygments_lexer": "ipython3",
   "version": "3.7.7"
  }
 },
 "nbformat": 4,
 "nbformat_minor": 4
}

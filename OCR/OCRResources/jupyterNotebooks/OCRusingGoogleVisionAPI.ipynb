{
 "cells": [
  {
   "cell_type": "code",
   "execution_count": 1,
   "metadata": {},
   "outputs": [
    {
     "name": "stdout",
     "output_type": "stream",
     "text": [
      "/mnt/d/NickWorks/OCR/jupyterNotebooks\r\n"
     ]
    }
   ],
   "source": [
    "!pwd"
   ]
  },
  {
   "cell_type": "code",
   "execution_count": 2,
   "metadata": {},
   "outputs": [],
   "source": [
    "from google.cloud import vision\n",
    "from google.cloud.vision import types\n",
    "import io\n",
    "from google.protobuf.json_format import MessageToDict"
   ]
  },
  {
   "cell_type": "code",
   "execution_count": 13,
   "metadata": {},
   "outputs": [],
   "source": [
    "import fitz\n",
    "file=\"deathcertificate3\"\n",
    "extension=\".pdf\"\n",
    "current_file=\"../Dataset/NewDataset/\"+file+extension\n",
    "write_file_directory=\"../Dataset/NewDatasetImageExtracted/\"\n",
    "write_file_path=write_file_directory+file+\".png\"\n",
    "if extension.endswith('.pdf'):\n",
    "    doc = fitz.open(current_file)\n",
    "    for i in range(len(doc)):\n",
    "        for img in doc.getPageImageList(i):\n",
    "            xref = img[0]\n",
    "            pix = fitz.Pixmap(doc, xref)\n",
    "            #if pix.n < 5:       # this is GRAY or RGB\n",
    "            if False:\n",
    "                pix.writePNG(write_file_path)\n",
    "            else:   # CMYK: convert to RGB first\n",
    "                pix1 = fitz.Pixmap(fitz.csRGB, pix)\n",
    "                pix1.writePNG(write_file_path)\n",
    "                pix1 = None\n",
    "            pix = None\n",
    "else:\n",
    "    im = Image.open(current_file)\n",
    "    im.save(write_file_path)"
   ]
  },
  {
   "cell_type": "code",
   "execution_count": 14,
   "metadata": {},
   "outputs": [
    {
     "name": "stdout",
     "output_type": "stream",
     "text": [
      "[INFO] angle: -0.000\n"
     ]
    },
    {
     "data": {
      "text/plain": [
       "True"
      ]
     },
     "execution_count": 14,
     "metadata": {},
     "output_type": "execute_result"
    }
   ],
   "source": [
    "import cv2\n",
    "import numpy as np\n",
    "img = cv2.imread(write_file_path)\n",
    "write_file_path=write_file_directory+file+\"new.png\"\n",
    "gray=cv2.cvtColor(img, cv2.COLOR_BGR2GRAY)\n",
    "gray=cv2.bitwise_not(gray)\n",
    "#thresh = cv2.threshold(gray, 0, 255,cv2.THRESH_BINARY | cv2.THRESH_OTSU)[1]\n",
    "coords = np.column_stack(np.where(thresh > 0))\n",
    "angle = cv2.minAreaRect(coords)[-1]\n",
    "if angle < -45:\n",
    "    angle = -(90 + angle)\n",
    "else:\n",
    "    angle = -angle\n",
    "(h, w) = img.shape[:2]\n",
    "center = (w // 2, h // 2)\n",
    "M = cv2.getRotationMatrix2D(center, angle, 1.0)\n",
    "rotated = cv2.warpAffine(img, M, (w, h),flags=cv2.INTER_CUBIC, borderMode=cv2.BORDER_REPLICATE)\n",
    "# show the output image\n",
    "print(\"[INFO] angle: {:.3f}\".format(angle))\n",
    "cv2.imwrite(write_file_path,rotated)"
   ]
  },
  {
   "cell_type": "code",
   "execution_count": 58,
   "metadata": {},
   "outputs": [],
   "source": [
    "from PIL import Image\n",
    "file_loc = write_file_path\n",
    "image_file = Image.open(file_loc)\n",
    "image_file = image_file.convert('1')\n",
    "image_file.save(file_loc)"
   ]
  },
  {
   "cell_type": "code",
   "execution_count": 68,
   "metadata": {},
   "outputs": [],
   "source": [
    "with io.open(file_loc, 'rb') as image_file:\n",
    "    content = image_file.read()"
   ]
  },
  {
   "cell_type": "code",
   "execution_count": 69,
   "metadata": {},
   "outputs": [],
   "source": [
    "client = vision.ImageAnnotatorClient()\n",
    "image = vision.types.Image(content=content)\n",
    "response = client.text_detection(image=image)"
   ]
  },
  {
   "cell_type": "code",
   "execution_count": 70,
   "metadata": {},
   "outputs": [],
   "source": [
    "DictResponse=MessageToDict(response)\n",
    "WordsAndCoordinates=DictResponse['textAnnotations'][1:]"
   ]
  },
  {
   "cell_type": "code",
   "execution_count": 71,
   "metadata": {},
   "outputs": [],
   "source": [
    "word_list=[]\n",
    "llx_list=[]\n",
    "lly_list=[]\n",
    "lrx_list=[]\n",
    "lry_list=[]\n",
    "urx_list=[]\n",
    "ury_list=[]\n",
    "ulx_list=[]\n",
    "uly_list=[]\n",
    "for i in range(0,len(WordsAndCoordinates)):\n",
    "    word_list.append(WordsAndCoordinates[i]['description'])\n",
    "    llx_list.append(WordsAndCoordinates[i]['boundingPoly']['vertices'][0]['x'])\n",
    "    lly_list.append(WordsAndCoordinates[i]['boundingPoly']['vertices'][0]['y'])\n",
    "    lrx_list.append(WordsAndCoordinates[i]['boundingPoly']['vertices'][1]['x'])\n",
    "    lry_list.append(WordsAndCoordinates[i]['boundingPoly']['vertices'][1]['y'])\n",
    "    urx_list.append(WordsAndCoordinates[i]['boundingPoly']['vertices'][2]['x'])\n",
    "    ury_list.append(WordsAndCoordinates[i]['boundingPoly']['vertices'][2]['y'])\n",
    "    ulx_list.append(WordsAndCoordinates[i]['boundingPoly']['vertices'][3]['x'])\n",
    "    uly_list.append(WordsAndCoordinates[i]['boundingPoly']['vertices'][3]['y'])"
   ]
  },
  {
   "cell_type": "code",
   "execution_count": 72,
   "metadata": {},
   "outputs": [],
   "source": [
    "WordsAndCoordinatesDict={\"Word\":word_list,'llx':llx_list,'lly':lly_list,\n",
    "                         'lrx':lrx_list,'lry':lry_list,'urx':urx_list,\n",
    "                         'ury':ury_list,'ulx':ulx_list,'uly':uly_list}"
   ]
  },
  {
   "cell_type": "code",
   "execution_count": 73,
   "metadata": {},
   "outputs": [],
   "source": [
    "import pandas as pd\n",
    "WordsAndCoordinatesDF = pd.DataFrame.from_dict(WordsAndCoordinatesDict)"
   ]
  },
  {
   "cell_type": "code",
   "execution_count": 74,
   "metadata": {},
   "outputs": [
    {
     "data": {
      "text/html": [
       "<div>\n",
       "<style scoped>\n",
       "    .dataframe tbody tr th:only-of-type {\n",
       "        vertical-align: middle;\n",
       "    }\n",
       "\n",
       "    .dataframe tbody tr th {\n",
       "        vertical-align: top;\n",
       "    }\n",
       "\n",
       "    .dataframe thead th {\n",
       "        text-align: right;\n",
       "    }\n",
       "</style>\n",
       "<table border=\"1\" class=\"dataframe\">\n",
       "  <thead>\n",
       "    <tr style=\"text-align: right;\">\n",
       "      <th></th>\n",
       "      <th>Word</th>\n",
       "      <th>llx</th>\n",
       "      <th>lly</th>\n",
       "      <th>lrx</th>\n",
       "      <th>lry</th>\n",
       "      <th>urx</th>\n",
       "      <th>ury</th>\n",
       "      <th>ulx</th>\n",
       "      <th>uly</th>\n",
       "    </tr>\n",
       "  </thead>\n",
       "  <tbody>\n",
       "    <tr>\n",
       "      <th>0</th>\n",
       "      <td>Western</td>\n",
       "      <td>297</td>\n",
       "      <td>42</td>\n",
       "      <td>369</td>\n",
       "      <td>46</td>\n",
       "      <td>368</td>\n",
       "      <td>60</td>\n",
       "      <td>296</td>\n",
       "      <td>56</td>\n",
       "    </tr>\n",
       "    <tr>\n",
       "      <th>1</th>\n",
       "      <td>Australia</td>\n",
       "      <td>377</td>\n",
       "      <td>47</td>\n",
       "      <td>452</td>\n",
       "      <td>52</td>\n",
       "      <td>451</td>\n",
       "      <td>65</td>\n",
       "      <td>376</td>\n",
       "      <td>61</td>\n",
       "    </tr>\n",
       "    <tr>\n",
       "      <th>2</th>\n",
       "      <td>Registration</td>\n",
       "      <td>513</td>\n",
       "      <td>54</td>\n",
       "      <td>573</td>\n",
       "      <td>54</td>\n",
       "      <td>573</td>\n",
       "      <td>66</td>\n",
       "      <td>513</td>\n",
       "      <td>66</td>\n",
       "    </tr>\n",
       "    <tr>\n",
       "      <th>3</th>\n",
       "      <td>Number</td>\n",
       "      <td>579</td>\n",
       "      <td>57</td>\n",
       "      <td>619</td>\n",
       "      <td>57</td>\n",
       "      <td>619</td>\n",
       "      <td>66</td>\n",
       "      <td>579</td>\n",
       "      <td>66</td>\n",
       "    </tr>\n",
       "    <tr>\n",
       "      <th>4</th>\n",
       "      <td>0007011/2019</td>\n",
       "      <td>525</td>\n",
       "      <td>69</td>\n",
       "      <td>607</td>\n",
       "      <td>71</td>\n",
       "      <td>607</td>\n",
       "      <td>80</td>\n",
       "      <td>525</td>\n",
       "      <td>78</td>\n",
       "    </tr>\n",
       "    <tr>\n",
       "      <th>5</th>\n",
       "      <td>Certificate</td>\n",
       "      <td>524</td>\n",
       "      <td>82</td>\n",
       "      <td>569</td>\n",
       "      <td>83</td>\n",
       "      <td>569</td>\n",
       "      <td>95</td>\n",
       "      <td>524</td>\n",
       "      <td>94</td>\n",
       "    </tr>\n",
       "    <tr>\n",
       "      <th>6</th>\n",
       "      <td>Number</td>\n",
       "      <td>575</td>\n",
       "      <td>83</td>\n",
       "      <td>617</td>\n",
       "      <td>84</td>\n",
       "      <td>617</td>\n",
       "      <td>96</td>\n",
       "      <td>575</td>\n",
       "      <td>95</td>\n",
       "    </tr>\n",
       "    <tr>\n",
       "      <th>7</th>\n",
       "      <td>00030500354</td>\n",
       "      <td>531</td>\n",
       "      <td>98</td>\n",
       "      <td>602</td>\n",
       "      <td>100</td>\n",
       "      <td>602</td>\n",
       "      <td>110</td>\n",
       "      <td>531</td>\n",
       "      <td>108</td>\n",
       "    </tr>\n",
       "    <tr>\n",
       "      <th>8</th>\n",
       "      <td>DEATH</td>\n",
       "      <td>282</td>\n",
       "      <td>67</td>\n",
       "      <td>343</td>\n",
       "      <td>71</td>\n",
       "      <td>342</td>\n",
       "      <td>84</td>\n",
       "      <td>281</td>\n",
       "      <td>80</td>\n",
       "    </tr>\n",
       "    <tr>\n",
       "      <th>9</th>\n",
       "      <td>CERTIFICATE</td>\n",
       "      <td>351</td>\n",
       "      <td>71</td>\n",
       "      <td>469</td>\n",
       "      <td>78</td>\n",
       "      <td>468</td>\n",
       "      <td>92</td>\n",
       "      <td>350</td>\n",
       "      <td>85</td>\n",
       "    </tr>\n",
       "    <tr>\n",
       "      <th>10</th>\n",
       "      <td>Brths</td>\n",
       "      <td>292</td>\n",
       "      <td>85</td>\n",
       "      <td>313</td>\n",
       "      <td>86</td>\n",
       "      <td>313</td>\n",
       "      <td>92</td>\n",
       "      <td>292</td>\n",
       "      <td>91</td>\n",
       "    </tr>\n",
       "    <tr>\n",
       "      <th>11</th>\n",
       "      <td>Deaths</td>\n",
       "      <td>318</td>\n",
       "      <td>87</td>\n",
       "      <td>344</td>\n",
       "      <td>89</td>\n",
       "      <td>344</td>\n",
       "      <td>95</td>\n",
       "      <td>318</td>\n",
       "      <td>93</td>\n",
       "    </tr>\n",
       "    <tr>\n",
       "      <th>12</th>\n",
       "      <td>and</td>\n",
       "      <td>347</td>\n",
       "      <td>89</td>\n",
       "      <td>360</td>\n",
       "      <td>90</td>\n",
       "      <td>360</td>\n",
       "      <td>96</td>\n",
       "      <td>347</td>\n",
       "      <td>95</td>\n",
       "    </tr>\n",
       "    <tr>\n",
       "      <th>13</th>\n",
       "      <td>Mamages</td>\n",
       "      <td>363</td>\n",
       "      <td>89</td>\n",
       "      <td>399</td>\n",
       "      <td>91</td>\n",
       "      <td>398</td>\n",
       "      <td>99</td>\n",
       "      <td>362</td>\n",
       "      <td>97</td>\n",
       "    </tr>\n",
       "    <tr>\n",
       "      <th>14</th>\n",
       "      <td>Registration</td>\n",
       "      <td>402</td>\n",
       "      <td>92</td>\n",
       "      <td>445</td>\n",
       "      <td>95</td>\n",
       "      <td>444</td>\n",
       "      <td>103</td>\n",
       "      <td>401</td>\n",
       "      <td>100</td>\n",
       "    </tr>\n",
       "    <tr>\n",
       "      <th>15</th>\n",
       "      <td>Act</td>\n",
       "      <td>447</td>\n",
       "      <td>95</td>\n",
       "      <td>459</td>\n",
       "      <td>96</td>\n",
       "      <td>459</td>\n",
       "      <td>103</td>\n",
       "      <td>447</td>\n",
       "      <td>102</td>\n",
       "    </tr>\n",
       "    <tr>\n",
       "      <th>16</th>\n",
       "      <td>DECEASED</td>\n",
       "      <td>96</td>\n",
       "      <td>99</td>\n",
       "      <td>155</td>\n",
       "      <td>100</td>\n",
       "      <td>155</td>\n",
       "      <td>109</td>\n",
       "      <td>96</td>\n",
       "      <td>108</td>\n",
       "    </tr>\n",
       "    <tr>\n",
       "      <th>17</th>\n",
       "      <td>Surname</td>\n",
       "      <td>103</td>\n",
       "      <td>112</td>\n",
       "      <td>146</td>\n",
       "      <td>114</td>\n",
       "      <td>146</td>\n",
       "      <td>122</td>\n",
       "      <td>103</td>\n",
       "      <td>120</td>\n",
       "    </tr>\n",
       "    <tr>\n",
       "      <th>18</th>\n",
       "      <td>Given</td>\n",
       "      <td>102</td>\n",
       "      <td>125</td>\n",
       "      <td>130</td>\n",
       "      <td>126</td>\n",
       "      <td>130</td>\n",
       "      <td>133</td>\n",
       "      <td>102</td>\n",
       "      <td>132</td>\n",
       "    </tr>\n",
       "    <tr>\n",
       "      <th>19</th>\n",
       "      <td>Names</td>\n",
       "      <td>134</td>\n",
       "      <td>126</td>\n",
       "      <td>168</td>\n",
       "      <td>127</td>\n",
       "      <td>168</td>\n",
       "      <td>135</td>\n",
       "      <td>134</td>\n",
       "      <td>134</td>\n",
       "    </tr>\n",
       "  </tbody>\n",
       "</table>\n",
       "</div>"
      ],
      "text/plain": [
       "            Word  llx  lly  lrx  lry  urx  ury  ulx  uly\n",
       "0        Western  297   42  369   46  368   60  296   56\n",
       "1      Australia  377   47  452   52  451   65  376   61\n",
       "2   Registration  513   54  573   54  573   66  513   66\n",
       "3         Number  579   57  619   57  619   66  579   66\n",
       "4   0007011/2019  525   69  607   71  607   80  525   78\n",
       "5    Certificate  524   82  569   83  569   95  524   94\n",
       "6         Number  575   83  617   84  617   96  575   95\n",
       "7    00030500354  531   98  602  100  602  110  531  108\n",
       "8          DEATH  282   67  343   71  342   84  281   80\n",
       "9    CERTIFICATE  351   71  469   78  468   92  350   85\n",
       "10         Brths  292   85  313   86  313   92  292   91\n",
       "11        Deaths  318   87  344   89  344   95  318   93\n",
       "12           and  347   89  360   90  360   96  347   95\n",
       "13       Mamages  363   89  399   91  398   99  362   97\n",
       "14  Registration  402   92  445   95  444  103  401  100\n",
       "15           Act  447   95  459   96  459  103  447  102\n",
       "16      DECEASED   96   99  155  100  155  109   96  108\n",
       "17       Surname  103  112  146  114  146  122  103  120\n",
       "18         Given  102  125  130  126  130  133  102  132\n",
       "19         Names  134  126  168  127  168  135  134  134"
      ]
     },
     "execution_count": 74,
     "metadata": {},
     "output_type": "execute_result"
    }
   ],
   "source": [
    "WordsAndCoordinatesDF.head(20)"
   ]
  },
  {
   "cell_type": "code",
   "execution_count": 75,
   "metadata": {},
   "outputs": [],
   "source": [
    "lly_ll=WordsAndCoordinatesDF[WordsAndCoordinatesDF['Word'].isin([\"Surname\"])].head(1)['lly'].values[0]-40"
   ]
  },
  {
   "cell_type": "code",
   "execution_count": 76,
   "metadata": {},
   "outputs": [],
   "source": [
    "lly_ul=WordsAndCoordinatesDF[WordsAndCoordinatesDF['Word'].isin([\"birth\"])]['lly'].values[0]+40"
   ]
  },
  {
   "cell_type": "code",
   "execution_count": 77,
   "metadata": {},
   "outputs": [],
   "source": [
    "WordsAndCoordinatesDFCopy=WordsAndCoordinatesDF[WordsAndCoordinatesDF['lly'].between(lly_ll,lly_ul)]\n",
    "WordsAndCoordinatesDFCopy=WordsAndCoordinatesDFCopy.sort_values(by=['lly'])"
   ]
  },
  {
   "cell_type": "code",
   "execution_count": 78,
   "metadata": {},
   "outputs": [
    {
     "data": {
      "text/html": [
       "<div>\n",
       "<style scoped>\n",
       "    .dataframe tbody tr th:only-of-type {\n",
       "        vertical-align: middle;\n",
       "    }\n",
       "\n",
       "    .dataframe tbody tr th {\n",
       "        vertical-align: top;\n",
       "    }\n",
       "\n",
       "    .dataframe thead th {\n",
       "        text-align: right;\n",
       "    }\n",
       "</style>\n",
       "<table border=\"1\" class=\"dataframe\">\n",
       "  <thead>\n",
       "    <tr style=\"text-align: right;\">\n",
       "      <th></th>\n",
       "      <th>Word</th>\n",
       "      <th>llx</th>\n",
       "      <th>lly</th>\n",
       "      <th>lrx</th>\n",
       "      <th>lry</th>\n",
       "      <th>urx</th>\n",
       "      <th>ury</th>\n",
       "      <th>ulx</th>\n",
       "      <th>uly</th>\n",
       "    </tr>\n",
       "  </thead>\n",
       "  <tbody>\n",
       "    <tr>\n",
       "      <th>5</th>\n",
       "      <td>Certificate</td>\n",
       "      <td>524</td>\n",
       "      <td>82</td>\n",
       "      <td>569</td>\n",
       "      <td>83</td>\n",
       "      <td>569</td>\n",
       "      <td>95</td>\n",
       "      <td>524</td>\n",
       "      <td>94</td>\n",
       "    </tr>\n",
       "    <tr>\n",
       "      <th>6</th>\n",
       "      <td>Number</td>\n",
       "      <td>575</td>\n",
       "      <td>83</td>\n",
       "      <td>617</td>\n",
       "      <td>84</td>\n",
       "      <td>617</td>\n",
       "      <td>96</td>\n",
       "      <td>575</td>\n",
       "      <td>95</td>\n",
       "    </tr>\n",
       "    <tr>\n",
       "      <th>10</th>\n",
       "      <td>Brths</td>\n",
       "      <td>292</td>\n",
       "      <td>85</td>\n",
       "      <td>313</td>\n",
       "      <td>86</td>\n",
       "      <td>313</td>\n",
       "      <td>92</td>\n",
       "      <td>292</td>\n",
       "      <td>91</td>\n",
       "    </tr>\n",
       "    <tr>\n",
       "      <th>11</th>\n",
       "      <td>Deaths</td>\n",
       "      <td>318</td>\n",
       "      <td>87</td>\n",
       "      <td>344</td>\n",
       "      <td>89</td>\n",
       "      <td>344</td>\n",
       "      <td>95</td>\n",
       "      <td>318</td>\n",
       "      <td>93</td>\n",
       "    </tr>\n",
       "    <tr>\n",
       "      <th>12</th>\n",
       "      <td>and</td>\n",
       "      <td>347</td>\n",
       "      <td>89</td>\n",
       "      <td>360</td>\n",
       "      <td>90</td>\n",
       "      <td>360</td>\n",
       "      <td>96</td>\n",
       "      <td>347</td>\n",
       "      <td>95</td>\n",
       "    </tr>\n",
       "    <tr>\n",
       "      <th>...</th>\n",
       "      <td>...</td>\n",
       "      <td>...</td>\n",
       "      <td>...</td>\n",
       "      <td>...</td>\n",
       "      <td>...</td>\n",
       "      <td>...</td>\n",
       "      <td>...</td>\n",
       "      <td>...</td>\n",
       "      <td>...</td>\n",
       "    </tr>\n",
       "    <tr>\n",
       "      <th>73</th>\n",
       "      <td>Father's</td>\n",
       "      <td>97</td>\n",
       "      <td>232</td>\n",
       "      <td>136</td>\n",
       "      <td>233</td>\n",
       "      <td>136</td>\n",
       "      <td>241</td>\n",
       "      <td>97</td>\n",
       "      <td>240</td>\n",
       "    </tr>\n",
       "    <tr>\n",
       "      <th>74</th>\n",
       "      <td>Surname</td>\n",
       "      <td>140</td>\n",
       "      <td>233</td>\n",
       "      <td>184</td>\n",
       "      <td>234</td>\n",
       "      <td>184</td>\n",
       "      <td>243</td>\n",
       "      <td>140</td>\n",
       "      <td>242</td>\n",
       "    </tr>\n",
       "    <tr>\n",
       "      <th>69</th>\n",
       "      <td>Knowles</td>\n",
       "      <td>273</td>\n",
       "      <td>237</td>\n",
       "      <td>313</td>\n",
       "      <td>238</td>\n",
       "      <td>313</td>\n",
       "      <td>249</td>\n",
       "      <td>273</td>\n",
       "      <td>248</td>\n",
       "    </tr>\n",
       "    <tr>\n",
       "      <th>75</th>\n",
       "      <td>Maiden</td>\n",
       "      <td>136</td>\n",
       "      <td>247</td>\n",
       "      <td>171</td>\n",
       "      <td>248</td>\n",
       "      <td>171</td>\n",
       "      <td>257</td>\n",
       "      <td>136</td>\n",
       "      <td>256</td>\n",
       "    </tr>\n",
       "    <tr>\n",
       "      <th>76</th>\n",
       "      <td>Surname</td>\n",
       "      <td>176</td>\n",
       "      <td>247</td>\n",
       "      <td>220</td>\n",
       "      <td>248</td>\n",
       "      <td>220</td>\n",
       "      <td>257</td>\n",
       "      <td>176</td>\n",
       "      <td>256</td>\n",
       "    </tr>\n",
       "  </tbody>\n",
       "</table>\n",
       "<p>70 rows × 9 columns</p>\n",
       "</div>"
      ],
      "text/plain": [
       "           Word  llx  lly  lrx  lry  urx  ury  ulx  uly\n",
       "5   Certificate  524   82  569   83  569   95  524   94\n",
       "6        Number  575   83  617   84  617   96  575   95\n",
       "10        Brths  292   85  313   86  313   92  292   91\n",
       "11       Deaths  318   87  344   89  344   95  318   93\n",
       "12          and  347   89  360   90  360   96  347   95\n",
       "..          ...  ...  ...  ...  ...  ...  ...  ...  ...\n",
       "73     Father's   97  232  136  233  136  241   97  240\n",
       "74      Surname  140  233  184  234  184  243  140  242\n",
       "69      Knowles  273  237  313  238  313  249  273  248\n",
       "75       Maiden  136  247  171  248  171  257  136  256\n",
       "76      Surname  176  247  220  248  220  257  176  256\n",
       "\n",
       "[70 rows x 9 columns]"
      ]
     },
     "execution_count": 78,
     "metadata": {},
     "output_type": "execute_result"
    }
   ],
   "source": [
    "WordsAndCoordinatesDFCopy"
   ]
  },
  {
   "cell_type": "code",
   "execution_count": 79,
   "metadata": {},
   "outputs": [
    {
     "data": {
      "text/plain": [
       "'00030500354 Registration Act DECEASED Given Names Knowles Barry'"
      ]
     },
     "execution_count": 79,
     "metadata": {},
     "output_type": "execute_result"
    }
   ],
   "source": [
    "lly_surname=WordsAndCoordinatesDFCopy[WordsAndCoordinatesDFCopy['Word'].isin(['Surname'])]['lly'].values[0]\n",
    "lly_ll=lly_surname-20\n",
    "lly_ul=lly_surname+20\n",
    "SurnameList=list(WordsAndCoordinatesDFCopy[(WordsAndCoordinatesDFCopy['Word']!='Surname') & (WordsAndCoordinatesDFCopy['lly'].between(lly_ll,lly_ul))][['Word']].sort_index()['Word'])\n",
    "SurnameList\n",
    "Surname=\" \"\n",
    "Surname=Surname.join(SurnameList)\n",
    "Surname"
   ]
  },
  {
   "cell_type": "code",
   "execution_count": 80,
   "metadata": {},
   "outputs": [
    {
     "data": {
      "text/plain": [
       "'Surname Place of death Knowles Barry'"
      ]
     },
     "execution_count": 80,
     "metadata": {},
     "output_type": "execute_result"
    }
   ],
   "source": [
    "lly_Given=WordsAndCoordinatesDFCopy[WordsAndCoordinatesDFCopy['Word'].isin(['Given'])]['lly'].values[0]\n",
    "lly_ll=lly_Given-20\n",
    "lly_ul=lly_Given+20\n",
    "GivenNameList=list(WordsAndCoordinatesDFCopy[(~WordsAndCoordinatesDFCopy['Word'].isin(['Given','Names'])) & (WordsAndCoordinatesDFCopy['lly'].between(lly_ll,lly_ul))][['Word']].sort_index()['Word'])\n",
    "GivenName=\" \"\n",
    "GivenName=GivenName.join(GivenNameList)\n",
    "GivenName"
   ]
  },
  {
   "cell_type": "code",
   "execution_count": 81,
   "metadata": {},
   "outputs": [
    {
     "data": {
      "text/plain": [
       "'Given Names Knowles Barry Fiona Staniey Hospital, 102-118 Murdoch Drive, Murdoch, Western'"
      ]
     },
     "execution_count": 81,
     "metadata": {},
     "output_type": "execute_result"
    }
   ],
   "source": [
    "lly_place_of_death=WordsAndCoordinatesDFCopy[WordsAndCoordinatesDFCopy['Word'].isin(['Place'])].head(1)['lly'].values[0]\n",
    "lly_ll=lly_place_of_death-20\n",
    "lly_ul=lly_place_of_death+20\n",
    "PlaceOfDeathList=list(WordsAndCoordinatesDFCopy[(~WordsAndCoordinatesDFCopy['Word'].isin(['Place','of','death'])) & (WordsAndCoordinatesDFCopy['lly'].between(lly_ll,lly_ul))][['Word']].sort_index()['Word'])\n",
    "PlaceOfDeath=\" \"\n",
    "PlaceOfDeath=PlaceOfDeath.join(PlaceOfDeathList)\n",
    "PlaceOfDeath"
   ]
  },
  {
   "cell_type": "code",
   "execution_count": 82,
   "metadata": {},
   "outputs": [
    {
     "data": {
      "text/plain": [
       "'Fiona Staniey Hospital, 102-118 Murdoch Drive, Murdoch, Western Australia Occupation & Sex 28 May 2019'"
      ]
     },
     "execution_count": 82,
     "metadata": {},
     "output_type": "execute_result"
    }
   ],
   "source": [
    "lly_date_of_death=WordsAndCoordinatesDFCopy[WordsAndCoordinatesDFCopy['Word'].isin(['Date'])].head(1)['lly'].values[0]\n",
    "lly_ll=lly_date_of_death-20\n",
    "lly_ul=lly_date_of_death+20\n",
    "DateOfDeathList=list(WordsAndCoordinatesDFCopy[(~WordsAndCoordinatesDFCopy['Word'].isin(['Date','of','death'])) & (WordsAndCoordinatesDFCopy['lly'].between(lly_ll,lly_ul))][['Word']].sort_index()['Word'])\n",
    "DateOfDeath=\" \"\n",
    "DateOfDeath=DateOfDeath.join(DateOfDeathList)\n",
    "DateOfDeath"
   ]
  },
  {
   "cell_type": "code",
   "execution_count": 31,
   "metadata": {},
   "outputs": [
    {
     "data": {
      "text/plain": [
       "'Labourer Male'"
      ]
     },
     "execution_count": 31,
     "metadata": {},
     "output_type": "execute_result"
    }
   ],
   "source": [
    "lly_occupation_and_sex=WordsAndCoordinatesDFCopy[WordsAndCoordinatesDFCopy['Word'].isin(['Occupation'])].head(1)['lly'].values[0]\n",
    "lly_ll=lly_occupation_and_sex-20\n",
    "lly_ul=lly_occupation_and_sex+20\n",
    "OccupationAndSexList=list(WordsAndCoordinatesDFCopy[(~WordsAndCoordinatesDFCopy['Word'].isin(['Occupation','&','Sex'])) & (WordsAndCoordinatesDFCopy['lly'].between(lly_ll,lly_ul))][['Word']].sort_index()['Word'])\n",
    "OccupationAndSex=\" \"\n",
    "OccupationAndSex=OccupationAndSex.join(OccupationAndSexList)\n",
    "OccupationAndSex"
   ]
  },
  {
   "cell_type": "code",
   "execution_count": 32,
   "metadata": {},
   "outputs": [
    {
     "data": {
      "text/plain": [
       "'75 years 30 August 1944'"
      ]
     },
     "execution_count": 32,
     "metadata": {},
     "output_type": "execute_result"
    }
   ],
   "source": [
    "lly_age_and_dob=WordsAndCoordinatesDFCopy[WordsAndCoordinatesDFCopy['Word'].isin(['Age'])].head(1)['lly'].values[0]\n",
    "lly_ll=lly_age_and_dob-20\n",
    "lly_ul=lly_age_and_dob+20\n",
    "AgeAndDOBList=list(WordsAndCoordinatesDFCopy[(~WordsAndCoordinatesDFCopy['Word'].isin(['Age','&','Date','of','Birth'])) & (WordsAndCoordinatesDFCopy['lly'].between(lly_ll,lly_ul))][['Word']].sort_index()['Word'])\n",
    "AgeAndDOB=\" \"\n",
    "AgeAndDOB=AgeAndDOB.join(AgeAndDOBList)\n",
    "AgeAndDOB"
   ]
  },
  {
   "cell_type": "code",
   "execution_count": 38,
   "metadata": {},
   "outputs": [
    {
     "data": {
      "text/plain": [
       "'Belvedere Caravan Park, 76/153 Mandurah Terrace, Mandurah, Western Australia, Australia'"
      ]
     },
     "execution_count": 38,
     "metadata": {},
     "output_type": "execute_result"
    }
   ],
   "source": [
    "lly_usual_address=WordsAndCoordinatesDFCopy[WordsAndCoordinatesDFCopy['Word'].isin(['address'])].head(1)['lly'].values[0]\n",
    "lly_ll=lly_usual_address-36\n",
    "lly_ul=lly_usual_address+36\n",
    "UsualAddressList=list(WordsAndCoordinatesDFCopy[(~WordsAndCoordinatesDFCopy['Word'].isin(['Usual','address'])) & (WordsAndCoordinatesDFCopy['lly'].between(lly_ll,lly_ul))][['Word']].sort_index()['Word'])\n",
    "UsualAddress=\" \"\n",
    "UsualAddress=UsualAddress.join(UsualAddressList)\n",
    "UsualAddress"
   ]
  },
  {
   "cell_type": "code",
   "execution_count": 39,
   "metadata": {},
   "outputs": [
    {
     "data": {
      "text/plain": [
       "'Government Hospital, Kalgoorlie, Western Australia, Australia'"
      ]
     },
     "execution_count": 39,
     "metadata": {},
     "output_type": "execute_result"
    }
   ],
   "source": [
    "lly_place_of_birth=WordsAndCoordinatesDFCopy[WordsAndCoordinatesDFCopy['Word'].isin(['birth'])].head(1)['lly'].values[0]\n",
    "lly_ll=lly_place_of_birth-20\n",
    "lly_ul=lly_place_of_birth+20\n",
    "PlaceOfBirthList=list(WordsAndCoordinatesDFCopy[(~WordsAndCoordinatesDFCopy['Word'].isin(['Place','of','birth'])) & (WordsAndCoordinatesDFCopy['lly'].between(lly_ll,lly_ul))][['Word']].sort_index()['Word'])\n",
    "PlaceOfBirth=\" \"\n",
    "PlaceOfBirth=PlaceOfBirth.join(PlaceOfBirthList)\n",
    "PlaceOfBirth"
   ]
  },
  {
   "cell_type": "code",
   "execution_count": null,
   "metadata": {},
   "outputs": [],
   "source": []
  }
 ],
 "metadata": {
  "kernelspec": {
   "display_name": "Python 3",
   "language": "python",
   "name": "python3"
  },
  "language_info": {
   "codemirror_mode": {
    "name": "ipython",
    "version": 3
   },
   "file_extension": ".py",
   "mimetype": "text/x-python",
   "name": "python",
   "nbconvert_exporter": "python",
   "pygments_lexer": "ipython3",
   "version": "3.7.7"
  }
 },
 "nbformat": 4,
 "nbformat_minor": 4
}
